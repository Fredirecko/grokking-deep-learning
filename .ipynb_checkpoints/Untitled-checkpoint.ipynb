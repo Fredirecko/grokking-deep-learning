{
 "cells": [
  {
   "cell_type": "code",
   "execution_count": null,
   "metadata": {},
   "outputs": [],
   "source": [
    "class ElectronicDevice:\n",
    "    def __init__(self, model_number, manufacture_date, manufacturer_name):\n",
    "        self.model_number = model_number\n",
    "        self.manufacture_date = manufacture_date\n",
    "        self.manufacturer_name = manufacturer_name\n",
    "        \n",
    "        \n",
    "class Computer(ElectronicDevice):\n",
    "    \n",
    "    def __init__(self, model_number, manufacture_date, manufacturer_name, operating_system):\n",
    "        ElectronicDevice.__init__(self, model_number, manufacture_date, manufacturer_name)\n",
    "        self.operating_system = operating_system\n",
    "\n",
    "class Television(ElectronicDevice, model_number, manufacture_date, manufacturer_name, resolution):\n",
    "    def __init__(self, model_number, manufacture_date, manufacturer_name, resolution):\n",
    "        ElectronicDevice.__init__(self, model_number, manufacture_date, manufacturer_name)\n",
    "        self.resolution = resolution\n",
    "\n",
    "class Desktop(Computer):\n",
    "    def __init__(self, model_number, manufacture_date, manufacturer_name, operating_system, harddrive, memory):\n",
    "        Computer.__init__(self, model_number, manufacture_date, manufacturer_name, operating_system)\n",
    "        self.harddrive = harddrive\n",
    "        self.memory = memory\n",
    "\n",
    "class Laptop(Computer):\n",
    "    def __init__(self, model_number, manufacture_date, manufacturer_name, operating_system, has_disc_drive=False):\n",
    "        Computer.__init__(self, model_number, manufacture_date, manufacturer_name, operating_system)\n",
    "        self.has_disc_drive = has_disc_drive\n",
    "        "
   ]
  }
 ],
 "metadata": {
  "kernelspec": {
   "display_name": "Python 3",
   "language": "python",
   "name": "python3"
  },
  "language_info": {
   "codemirror_mode": {
    "name": "ipython",
    "version": 3
   },
   "file_extension": ".py",
   "mimetype": "text/x-python",
   "name": "python",
   "nbconvert_exporter": "python",
   "pygments_lexer": "ipython3",
   "version": "3.7.3"
  }
 },
 "nbformat": 4,
 "nbformat_minor": 2
}
